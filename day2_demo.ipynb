{
 "cells": [
  {
   "cell_type": "code",
   "execution_count": 17,
   "metadata": {},
   "outputs": [
    {
     "name": "stdout",
     "output_type": "stream",
     "text": [
      "<class 'list'>\n",
      "7\n",
      "['khaled', 'Esraa']\n",
      "['khaled', 'aya', 'Esraa', True, 11, 2.3, [1, 2, 3]]\n",
      "['updated ', 'aya', 'Esraa', True, 11, 2.3, [1, 2, 3]]\n",
      "False\n",
      "updated \n",
      "aya\n",
      "Esraa\n",
      "True\n",
      "11\n",
      "2.3\n",
      "[1, 2, 3]\n",
      "[2, 4, 6]\n",
      "['updated ', 'aya', [2, 4, 6], 'Esraa', True, 11, 2.3, [1, 2, 3], 'appended', [2, 4, 6], '1', '2', '3']\n"
     ]
    }
   ],
   "source": [
    "pythonTrack = [\"khaled\" , \"aya\" ,\"Esraa\" , True , 11  , 2.3 , [1,2,3]]\n",
    "print (type(pythonTrack))\n",
    "print (len (pythonTrack))\n",
    "print(pythonTrack[0:4:2])\n",
    "print(pythonTrack[0:10:1])\n",
    "# print(pythonTrack[10]) # error\n",
    "pythonTrack[0] = \"updated \"\n",
    "print(pythonTrack)\n",
    "print(10 in pythonTrack)\n",
    "for ele in pythonTrack:\n",
    "    print(ele)\n",
    "\n",
    "pythonTrack.append(\"appended\")\n",
    "pythonTrack.insert (2 , [2 ,4 ,6])\n",
    "pythonTrack.insert (20 , [2 ,4 ,6])\n",
    "print(pythonTrack[-1])\n",
    "pythonTrack.extend([\"1\", \"2\" , \"3\"])\n",
    "print(pythonTrack)\n"
   ]
  },
  {
   "cell_type": "code",
   "execution_count": 26,
   "metadata": {},
   "outputs": [
    {
     "name": "stdout",
     "output_type": "stream",
     "text": [
      "[1, 2, 3, 'shimaa', 'yara']\n",
      "[1, 3]\n",
      "2\n",
      "[1, 3]\n"
     ]
    }
   ],
   "source": [
    "print([1,2,3] + [\"shimaa\" , \"yara\"])\n",
    "l = [1,2,3]\n",
    "poppedElement = l.pop(1)\n",
    "print(l)\n",
    "print(poppedElement)\n",
    "if 4 in l:\n",
    "    l.remove(4)\n",
    "print(l)\n",
    "\n"
   ]
  },
  {
   "cell_type": "code",
   "execution_count": 34,
   "metadata": {},
   "outputs": [
    {
     "name": "stdout",
     "output_type": "stream",
     "text": [
      "[10, 22, 5, 3, 1]\n",
      "[22, 10, 5, 3, 1]\n",
      "[10, 22, 5, 3, 1]\n",
      "[1, 3, 5, 22, 10]\n",
      "41\n"
     ]
    }
   ],
   "source": [
    "l = [10,22,5,3,1]\n",
    "print(l)\n",
    "# l.sort(reverse=True)\n",
    "sortedl = sorted(l , reverse=True)\n",
    "print(sortedl)\n",
    "print(l)\n",
    "l.reverse()\n",
    "print(l)\n",
    "print(sum(l))\n"
   ]
  },
  {
   "cell_type": "code",
   "execution_count": 38,
   "metadata": {},
   "outputs": [
    {
     "name": "stdout",
     "output_type": "stream",
     "text": [
      "[0, 2, 4, 6, 8, 10]\n",
      "[0, 2, 4, 6, 8, 10]\n",
      "['s', 'h', 'i', 'm', 'a', 'a']\n"
     ]
    }
   ],
   "source": [
    "evenNumbers = []\n",
    "for  ele in range(0,11):\n",
    "    if ele % 2 == 0:\n",
    "        evenNumbers.append(ele)\n",
    "print(evenNumbers)\n",
    "comprehensedEvenNumbers = [ele for ele in range (0,11) if ele % 2 == 0]\n",
    "print(comprehensedEvenNumbers)\n",
    "characters = [char for char in \"shimaa\"]\n",
    "print(characters)"
   ]
  },
  {
   "cell_type": "code",
   "execution_count": 41,
   "metadata": {},
   "outputs": [
    {
     "name": "stdout",
     "output_type": "stream",
     "text": [
      "<class 'tuple'>\n",
      "[4, 2, 3]\n"
     ]
    }
   ],
   "source": [
    "t = (1,2,3)\n",
    "print(type (t))\n",
    "t = list(t)\n",
    "t[0] = 4\n",
    "print (t)\n"
   ]
  },
  {
   "cell_type": "code",
   "execution_count": 54,
   "metadata": {},
   "outputs": [
    {
     "name": "stdout",
     "output_type": "stream",
     "text": [
      "1\n",
      "<class 'int'>\n",
      "(1,)\n",
      "<class 'tuple'>\n",
      "[3, 4]\n",
      "<class 'list'>\n"
     ]
    }
   ],
   "source": [
    "t = 1\n",
    "a = 3\n",
    "t = 1 ; a = 3\n",
    "t , *a  , z= (1 ,3 , 4 , 5  )\n",
    "x = (1)\n",
    "print(x)\n",
    "print(type (x))\n",
    "x = (1,) # tuple of one element \n",
    "print(x)\n",
    "print(type (x))\n",
    "print(a)\n",
    "print(type (a))\n",
    "del a\n",
    "# print(a) # error \n"
   ]
  },
  {
   "cell_type": "code",
   "execution_count": 79,
   "metadata": {},
   "outputs": [
    {
     "name": "stdout",
     "output_type": "stream",
     "text": [
      "test\n",
      "{'name': 'menna', 'age': 24, 1: [1, 2, 3], (1, 2): 'shimaa', 'test': 'test'}\n",
      "{'name': 'menna', 'age': 24, 1: [1, 2, 3], (1, 2): 'shimaa'}\n",
      "name => menna age => 24 1 => [1, 2, 3] (1, 2) => shimaa \n",
      "name => menna age => 24 1 => [1, 2, 3] (1, 2) => shimaa \n",
      "('name', 'menna') ('age', 24) (1, [1, 2, 3]) ((1, 2), 'shimaa') \n",
      "name = menna\n",
      "age = 24\n",
      "1 = [1, 2, 3]\n",
      "(1, 2) = shimaa\n",
      "{'name': 'final', 'age': 24, 1: [1, 2, 3], (1, 2): 'shimaa', 'test': 'test'}\n",
      "5\n",
      "{1, 2, 3, 5, 10, 12}\n"
     ]
    }
   ],
   "source": [
    "# dic  = {\"name\" :\"shimaa\" , \"name\":\"yara\" , \"age\":24 , 1 : [1,2,3] , [1,2] : \"shimaa\"}\n",
    "dic  = {\"name\" :\"shimaa\" , \"name\":\"yara\" , \"age\":24 , 1 : [1,2,3] , (1,2) : \"shimaa\"}\n",
    "dic[\"name\"] = \"menna\"\n",
    "dic[\"test\"] = \"test\"\n",
    "print (dic[\"test\"])\n",
    "print(dic)\n",
    "del dic[\"test\"]\n",
    "print(dic)\n",
    "# dic.clear()\n",
    "# print(dic)\n",
    "for ele in dic:\n",
    "    print(f\"{ele} => {dic[ele]}\" , end = \" \")\n",
    "print()\n",
    "for ele in dic.keys():\n",
    "    print(f\"{ele} => {dic[ele]}\" , end = \" \")\n",
    "print()\n",
    "for item in dic.items():\n",
    "    print(item , end = \" \")\n",
    "print()\n",
    "for key , val in dic.items():\n",
    "    print(f\"{key} = {val}\")\n",
    "dic.update({\"name\" :\"final\" , \"test\":\"test\"})\n",
    "print(dic)\n",
    "print(len (dic))\n"
   ]
  },
  {
   "cell_type": "code",
   "execution_count": 86,
   "metadata": {},
   "outputs": [
    {
     "name": "stdout",
     "output_type": "stream",
     "text": [
      "{1, 2, 3, 99, 100, 5, 12}\n",
      "{1, 2, 3, 99, 100, 5, 10, 12}\n",
      "True\n",
      "1\n",
      "2\n",
      "3\n",
      "99\n",
      "100\n",
      "5\n",
      "10\n",
      "12\n",
      "set()\n"
     ]
    }
   ],
   "source": [
    "setOfNumbers = { 100, 99 , 100,1 ,2 ,1 ,12, 3, 5}\n",
    "print(setOfNumbers)\n",
    "setOfNumbers.add(10)\n",
    "print(setOfNumbers)\n",
    "print(10 in setOfNumbers)\n",
    "for ele in setOfNumbers:\n",
    "    print(ele)\n",
    "setOfNumbers.clear()\n",
    "print(setOfNumbers)"
   ]
  }
 ],
 "metadata": {
  "kernelspec": {
   "display_name": "Python 3",
   "language": "python",
   "name": "python3"
  },
  "language_info": {
   "codemirror_mode": {
    "name": "ipython",
    "version": 3
   },
   "file_extension": ".py",
   "mimetype": "text/x-python",
   "name": "python",
   "nbconvert_exporter": "python",
   "pygments_lexer": "ipython3",
   "version": "3.11.2"
  }
 },
 "nbformat": 4,
 "nbformat_minor": 2
}
